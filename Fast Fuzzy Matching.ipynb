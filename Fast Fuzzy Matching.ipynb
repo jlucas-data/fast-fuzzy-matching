{
 "cells": [
  {
   "cell_type": "markdown",
   "id": "opened-growth",
   "metadata": {},
   "source": [
    "![deduplication](https://www.teimouri.net/wp-content/uploads/2019/10/deduplication.png)"
   ]
  },
  {
   "cell_type": "markdown",
   "id": "polar-botswana",
   "metadata": {},
   "source": [
    "## Fast fuzzy matching for large datasets"
   ]
  },
  {
   "cell_type": "markdown",
   "id": "later-refrigerator",
   "metadata": {},
   "source": [
    "Deduplication is a common and necessary task for a lot of datasets, and often requires fuzzy matching between strings to help identify the duplicate records. \n",
    "<br><br>\n",
    "A well known package to do so is the [fuzzywuzzy](https://pypi.org/project/fuzzywuzzy/) python package, which uses [Levenshtein distance](https://en.wikipedia.org/wiki/Levenshtein_distance) to calculate the difference between two strings. Unfortunately, this method requires comparing each string to every other string in the dataset (on the order of quadratic time, O(n<sup>2</sup>)). For a large dataset, this falls apart as it quickly builds to very long runtimes.\n",
    "<br><br>\n",
    "This notebook explores an alternative approach, using methods from Nautral Language Processing and matrix multiplication to speed up the problem by over **6000x**."
   ]
  },
  {
   "cell_type": "markdown",
   "id": "racial-association",
   "metadata": {},
   "source": [
    "### Importing packages"
   ]
  },
  {
   "cell_type": "code",
   "execution_count": 1,
   "id": "central-output",
   "metadata": {},
   "outputs": [],
   "source": [
    "from fuzzywuzzy import fuzz\n",
    "from fuzzywuzzy import process\n",
    "import pandas as pd\n",
    "import numpy as np\n",
    "import re\n",
    "import warnings\n",
    "warnings.filterwarnings(\"ignore\")\n",
    "pd.set_option('display.max_columns', None)"
   ]
  },
  {
   "cell_type": "markdown",
   "id": "charming-brain",
   "metadata": {},
   "source": [
    "### Getting the data "
   ]
  },
  {
   "cell_type": "markdown",
   "id": "hollow-grammar",
   "metadata": {},
   "source": [
    "Company data is notorious for containing duplicates. With organisations creating multiple official registrations, or even just users creating new records, CRMs and other databses can soon get flooded with many versions of the same company.\n",
    "<br><br>\n",
    "To use as example data, a list of companies registered with Companies House can be downloaded from [their website](http://download.companieshouse.gov.uk/en_output.html)."
   ]
  },
  {
   "cell_type": "code",
   "execution_count": 2,
   "id": "yellow-phrase",
   "metadata": {},
   "outputs": [],
   "source": [
    "df = pd.read_csv('./BasicCompanyDataAsOneFile-2021-01-01.csv')"
   ]
  },
  {
   "cell_type": "code",
   "execution_count": 3,
   "id": "simple-retention",
   "metadata": {},
   "outputs": [
    {
     "data": {
      "text/html": [
       "<div>\n",
       "<style scoped>\n",
       "    .dataframe tbody tr th:only-of-type {\n",
       "        vertical-align: middle;\n",
       "    }\n",
       "\n",
       "    .dataframe tbody tr th {\n",
       "        vertical-align: top;\n",
       "    }\n",
       "\n",
       "    .dataframe thead th {\n",
       "        text-align: right;\n",
       "    }\n",
       "</style>\n",
       "<table border=\"1\" class=\"dataframe\">\n",
       "  <thead>\n",
       "    <tr style=\"text-align: right;\">\n",
       "      <th></th>\n",
       "      <th>CompanyName</th>\n",
       "      <th>CompanyNumber</th>\n",
       "      <th>RegAddress.CareOf</th>\n",
       "      <th>RegAddress.POBox</th>\n",
       "      <th>RegAddress.AddressLine1</th>\n",
       "      <th>RegAddress.AddressLine2</th>\n",
       "      <th>RegAddress.PostTown</th>\n",
       "      <th>RegAddress.County</th>\n",
       "      <th>RegAddress.Country</th>\n",
       "      <th>RegAddress.PostCode</th>\n",
       "      <th>CompanyCategory</th>\n",
       "      <th>CompanyStatus</th>\n",
       "      <th>CountryOfOrigin</th>\n",
       "      <th>DissolutionDate</th>\n",
       "      <th>IncorporationDate</th>\n",
       "      <th>Accounts.AccountRefDay</th>\n",
       "      <th>Accounts.AccountRefMonth</th>\n",
       "      <th>Accounts.NextDueDate</th>\n",
       "      <th>Accounts.LastMadeUpDate</th>\n",
       "      <th>Accounts.AccountCategory</th>\n",
       "      <th>Returns.NextDueDate</th>\n",
       "      <th>Returns.LastMadeUpDate</th>\n",
       "      <th>Mortgages.NumMortCharges</th>\n",
       "      <th>Mortgages.NumMortOutstanding</th>\n",
       "      <th>Mortgages.NumMortPartSatisfied</th>\n",
       "      <th>Mortgages.NumMortSatisfied</th>\n",
       "      <th>SICCode.SicText_1</th>\n",
       "      <th>SICCode.SicText_2</th>\n",
       "      <th>SICCode.SicText_3</th>\n",
       "      <th>SICCode.SicText_4</th>\n",
       "      <th>LimitedPartnerships.NumGenPartners</th>\n",
       "      <th>LimitedPartnerships.NumLimPartners</th>\n",
       "      <th>URI</th>\n",
       "      <th>PreviousName_1.CONDATE</th>\n",
       "      <th>PreviousName_1.CompanyName</th>\n",
       "      <th>PreviousName_2.CONDATE</th>\n",
       "      <th>PreviousName_2.CompanyName</th>\n",
       "      <th>PreviousName_3.CONDATE</th>\n",
       "      <th>PreviousName_3.CompanyName</th>\n",
       "      <th>PreviousName_4.CONDATE</th>\n",
       "      <th>PreviousName_4.CompanyName</th>\n",
       "      <th>PreviousName_5.CONDATE</th>\n",
       "      <th>PreviousName_5.CompanyName</th>\n",
       "      <th>PreviousName_6.CONDATE</th>\n",
       "      <th>PreviousName_6.CompanyName</th>\n",
       "      <th>PreviousName_7.CONDATE</th>\n",
       "      <th>PreviousName_7.CompanyName</th>\n",
       "      <th>PreviousName_8.CONDATE</th>\n",
       "      <th>PreviousName_8.CompanyName</th>\n",
       "      <th>PreviousName_9.CONDATE</th>\n",
       "      <th>PreviousName_9.CompanyName</th>\n",
       "      <th>PreviousName_10.CONDATE</th>\n",
       "      <th>PreviousName_10.CompanyName</th>\n",
       "      <th>ConfStmtNextDueDate</th>\n",
       "      <th>ConfStmtLastMadeUpDate</th>\n",
       "    </tr>\n",
       "  </thead>\n",
       "  <tbody>\n",
       "    <tr>\n",
       "      <th>4375058</th>\n",
       "      <td>THIRD WAY CONSULTING LIMITED</td>\n",
       "      <td>11487238</td>\n",
       "      <td>NaN</td>\n",
       "      <td>NaN</td>\n",
       "      <td>23A FORE STREET</td>\n",
       "      <td>NaN</td>\n",
       "      <td>HERTFORD</td>\n",
       "      <td>NaN</td>\n",
       "      <td>UNITED KINGDOM</td>\n",
       "      <td>SG14 1DJ</td>\n",
       "      <td>Private Limited Company</td>\n",
       "      <td>Active</td>\n",
       "      <td>United Kingdom</td>\n",
       "      <td>NaN</td>\n",
       "      <td>27/07/2018</td>\n",
       "      <td>31.0</td>\n",
       "      <td>7.0</td>\n",
       "      <td>30/04/2021</td>\n",
       "      <td>31/07/2019</td>\n",
       "      <td>NaN</td>\n",
       "      <td>24/08/2019</td>\n",
       "      <td>NaN</td>\n",
       "      <td>0</td>\n",
       "      <td>0</td>\n",
       "      <td>0</td>\n",
       "      <td>0</td>\n",
       "      <td>70229 - Management consultancy activities othe...</td>\n",
       "      <td>NaN</td>\n",
       "      <td>NaN</td>\n",
       "      <td>NaN</td>\n",
       "      <td>0</td>\n",
       "      <td>0</td>\n",
       "      <td>http://business.data.gov.uk/id/company/11487238</td>\n",
       "      <td>NaN</td>\n",
       "      <td>NaN</td>\n",
       "      <td>NaN</td>\n",
       "      <td>NaN</td>\n",
       "      <td>NaN</td>\n",
       "      <td>NaN</td>\n",
       "      <td>NaN</td>\n",
       "      <td>NaN</td>\n",
       "      <td>NaN</td>\n",
       "      <td>NaN</td>\n",
       "      <td>NaN</td>\n",
       "      <td>NaN</td>\n",
       "      <td>NaN</td>\n",
       "      <td>NaN</td>\n",
       "      <td>NaN</td>\n",
       "      <td>NaN</td>\n",
       "      <td>NaN</td>\n",
       "      <td>NaN</td>\n",
       "      <td>NaN</td>\n",
       "      <td>NaN</td>\n",
       "      <td>14/04/2021</td>\n",
       "      <td>31/03/2020</td>\n",
       "    </tr>\n",
       "    <tr>\n",
       "      <th>4270456</th>\n",
       "      <td>THE CEDAR FINEST MEATS &amp; DELI LIMITED</td>\n",
       "      <td>10626054</td>\n",
       "      <td>NaN</td>\n",
       "      <td>NaN</td>\n",
       "      <td>THE CEDAR</td>\n",
       "      <td>31 MALVERN ROAD</td>\n",
       "      <td>LONDON</td>\n",
       "      <td>NaN</td>\n",
       "      <td>ENGLAND</td>\n",
       "      <td>NW6 5PS</td>\n",
       "      <td>Private Limited Company</td>\n",
       "      <td>Active</td>\n",
       "      <td>United Kingdom</td>\n",
       "      <td>NaN</td>\n",
       "      <td>17/02/2017</td>\n",
       "      <td>28.0</td>\n",
       "      <td>2.0</td>\n",
       "      <td>28/02/2021</td>\n",
       "      <td>28/02/2019</td>\n",
       "      <td>NaN</td>\n",
       "      <td>17/03/2018</td>\n",
       "      <td>NaN</td>\n",
       "      <td>0</td>\n",
       "      <td>0</td>\n",
       "      <td>0</td>\n",
       "      <td>0</td>\n",
       "      <td>47110 - Retail sale in non-specialised stores ...</td>\n",
       "      <td>NaN</td>\n",
       "      <td>NaN</td>\n",
       "      <td>NaN</td>\n",
       "      <td>0</td>\n",
       "      <td>0</td>\n",
       "      <td>http://business.data.gov.uk/id/company/10626054</td>\n",
       "      <td>NaN</td>\n",
       "      <td>NaN</td>\n",
       "      <td>NaN</td>\n",
       "      <td>NaN</td>\n",
       "      <td>NaN</td>\n",
       "      <td>NaN</td>\n",
       "      <td>NaN</td>\n",
       "      <td>NaN</td>\n",
       "      <td>NaN</td>\n",
       "      <td>NaN</td>\n",
       "      <td>NaN</td>\n",
       "      <td>NaN</td>\n",
       "      <td>NaN</td>\n",
       "      <td>NaN</td>\n",
       "      <td>NaN</td>\n",
       "      <td>NaN</td>\n",
       "      <td>NaN</td>\n",
       "      <td>NaN</td>\n",
       "      <td>NaN</td>\n",
       "      <td>NaN</td>\n",
       "      <td>03/04/2021</td>\n",
       "      <td>20/02/2020</td>\n",
       "    </tr>\n",
       "    <tr>\n",
       "      <th>3858539</th>\n",
       "      <td>SF PROFESSIONAL SOLUTIONS LIMITED</td>\n",
       "      <td>12451432</td>\n",
       "      <td>NaN</td>\n",
       "      <td>NaN</td>\n",
       "      <td>11 11 THE MOAT HOUSE</td>\n",
       "      <td>COMMONS ROAD</td>\n",
       "      <td>PEMBROKE</td>\n",
       "      <td>PEMBROKESHIRE</td>\n",
       "      <td>UNITED KINGDOM</td>\n",
       "      <td>SA71 4EA</td>\n",
       "      <td>Private Limited Company</td>\n",
       "      <td>Active</td>\n",
       "      <td>United Kingdom</td>\n",
       "      <td>NaN</td>\n",
       "      <td>10/02/2020</td>\n",
       "      <td>29.0</td>\n",
       "      <td>2.0</td>\n",
       "      <td>10/11/2021</td>\n",
       "      <td>NaN</td>\n",
       "      <td>NO ACCOUNTS FILED</td>\n",
       "      <td>10/03/2021</td>\n",
       "      <td>NaN</td>\n",
       "      <td>0</td>\n",
       "      <td>0</td>\n",
       "      <td>0</td>\n",
       "      <td>0</td>\n",
       "      <td>82990 - Other business support service activit...</td>\n",
       "      <td>NaN</td>\n",
       "      <td>NaN</td>\n",
       "      <td>NaN</td>\n",
       "      <td>0</td>\n",
       "      <td>0</td>\n",
       "      <td>http://business.data.gov.uk/id/company/12451432</td>\n",
       "      <td>NaN</td>\n",
       "      <td>NaN</td>\n",
       "      <td>NaN</td>\n",
       "      <td>NaN</td>\n",
       "      <td>NaN</td>\n",
       "      <td>NaN</td>\n",
       "      <td>NaN</td>\n",
       "      <td>NaN</td>\n",
       "      <td>NaN</td>\n",
       "      <td>NaN</td>\n",
       "      <td>NaN</td>\n",
       "      <td>NaN</td>\n",
       "      <td>NaN</td>\n",
       "      <td>NaN</td>\n",
       "      <td>NaN</td>\n",
       "      <td>NaN</td>\n",
       "      <td>NaN</td>\n",
       "      <td>NaN</td>\n",
       "      <td>NaN</td>\n",
       "      <td>NaN</td>\n",
       "      <td>23/03/2021</td>\n",
       "      <td>NaN</td>\n",
       "    </tr>\n",
       "    <tr>\n",
       "      <th>2506897</th>\n",
       "      <td>LAUNCELOT PARTNERS II NOMINEES LIMITED</td>\n",
       "      <td>11356508</td>\n",
       "      <td>NaN</td>\n",
       "      <td>NaN</td>\n",
       "      <td>64 NEW CAVENDISH STREET</td>\n",
       "      <td>NaN</td>\n",
       "      <td>LONDON</td>\n",
       "      <td>NaN</td>\n",
       "      <td>UNITED KINGDOM</td>\n",
       "      <td>W1G 8TB</td>\n",
       "      <td>Private Limited Company</td>\n",
       "      <td>Active</td>\n",
       "      <td>United Kingdom</td>\n",
       "      <td>NaN</td>\n",
       "      <td>11/05/2018</td>\n",
       "      <td>31.0</td>\n",
       "      <td>5.0</td>\n",
       "      <td>31/05/2021</td>\n",
       "      <td>31/05/2019</td>\n",
       "      <td>DORMANT</td>\n",
       "      <td>08/06/2019</td>\n",
       "      <td>NaN</td>\n",
       "      <td>0</td>\n",
       "      <td>0</td>\n",
       "      <td>0</td>\n",
       "      <td>0</td>\n",
       "      <td>68100 - Buying and selling of own real estate</td>\n",
       "      <td>NaN</td>\n",
       "      <td>NaN</td>\n",
       "      <td>NaN</td>\n",
       "      <td>0</td>\n",
       "      <td>0</td>\n",
       "      <td>http://business.data.gov.uk/id/company/11356508</td>\n",
       "      <td>NaN</td>\n",
       "      <td>NaN</td>\n",
       "      <td>NaN</td>\n",
       "      <td>NaN</td>\n",
       "      <td>NaN</td>\n",
       "      <td>NaN</td>\n",
       "      <td>NaN</td>\n",
       "      <td>NaN</td>\n",
       "      <td>NaN</td>\n",
       "      <td>NaN</td>\n",
       "      <td>NaN</td>\n",
       "      <td>NaN</td>\n",
       "      <td>NaN</td>\n",
       "      <td>NaN</td>\n",
       "      <td>NaN</td>\n",
       "      <td>NaN</td>\n",
       "      <td>NaN</td>\n",
       "      <td>NaN</td>\n",
       "      <td>NaN</td>\n",
       "      <td>NaN</td>\n",
       "      <td>20/07/2021</td>\n",
       "      <td>06/07/2020</td>\n",
       "    </tr>\n",
       "    <tr>\n",
       "      <th>2782498</th>\n",
       "      <td>MAXKOTE LIMITED</td>\n",
       "      <td>11766787</td>\n",
       "      <td>NaN</td>\n",
       "      <td>NaN</td>\n",
       "      <td>20 KIRKGATE</td>\n",
       "      <td>SHERBURN IN ELMET</td>\n",
       "      <td>LEEDS</td>\n",
       "      <td>NaN</td>\n",
       "      <td>UNITED KINGDOM</td>\n",
       "      <td>LS25 6BL</td>\n",
       "      <td>Private Limited Company</td>\n",
       "      <td>Active</td>\n",
       "      <td>United Kingdom</td>\n",
       "      <td>NaN</td>\n",
       "      <td>15/01/2019</td>\n",
       "      <td>31.0</td>\n",
       "      <td>1.0</td>\n",
       "      <td>31/10/2021</td>\n",
       "      <td>31/01/2020</td>\n",
       "      <td>NaN</td>\n",
       "      <td>12/02/2020</td>\n",
       "      <td>NaN</td>\n",
       "      <td>0</td>\n",
       "      <td>0</td>\n",
       "      <td>0</td>\n",
       "      <td>0</td>\n",
       "      <td>46180 - Agents specialized in the sale of othe...</td>\n",
       "      <td>NaN</td>\n",
       "      <td>NaN</td>\n",
       "      <td>NaN</td>\n",
       "      <td>0</td>\n",
       "      <td>0</td>\n",
       "      <td>http://business.data.gov.uk/id/company/11766787</td>\n",
       "      <td>NaN</td>\n",
       "      <td>NaN</td>\n",
       "      <td>NaN</td>\n",
       "      <td>NaN</td>\n",
       "      <td>NaN</td>\n",
       "      <td>NaN</td>\n",
       "      <td>NaN</td>\n",
       "      <td>NaN</td>\n",
       "      <td>NaN</td>\n",
       "      <td>NaN</td>\n",
       "      <td>NaN</td>\n",
       "      <td>NaN</td>\n",
       "      <td>NaN</td>\n",
       "      <td>NaN</td>\n",
       "      <td>NaN</td>\n",
       "      <td>NaN</td>\n",
       "      <td>NaN</td>\n",
       "      <td>NaN</td>\n",
       "      <td>NaN</td>\n",
       "      <td>NaN</td>\n",
       "      <td>25/02/2021</td>\n",
       "      <td>14/01/2020</td>\n",
       "    </tr>\n",
       "  </tbody>\n",
       "</table>\n",
       "</div>"
      ],
      "text/plain": [
       "                                    CompanyName  CompanyNumber  \\\n",
       "4375058            THIRD WAY CONSULTING LIMITED       11487238   \n",
       "4270456   THE CEDAR FINEST MEATS & DELI LIMITED       10626054   \n",
       "3858539       SF PROFESSIONAL SOLUTIONS LIMITED       12451432   \n",
       "2506897  LAUNCELOT PARTNERS II NOMINEES LIMITED       11356508   \n",
       "2782498                         MAXKOTE LIMITED       11766787   \n",
       "\n",
       "        RegAddress.CareOf RegAddress.POBox  RegAddress.AddressLine1  \\\n",
       "4375058               NaN              NaN          23A FORE STREET   \n",
       "4270456               NaN              NaN                THE CEDAR   \n",
       "3858539               NaN              NaN     11 11 THE MOAT HOUSE   \n",
       "2506897               NaN              NaN  64 NEW CAVENDISH STREET   \n",
       "2782498               NaN              NaN              20 KIRKGATE   \n",
       "\n",
       "         RegAddress.AddressLine2 RegAddress.PostTown RegAddress.County  \\\n",
       "4375058                      NaN            HERTFORD               NaN   \n",
       "4270456          31 MALVERN ROAD              LONDON               NaN   \n",
       "3858539             COMMONS ROAD            PEMBROKE     PEMBROKESHIRE   \n",
       "2506897                      NaN              LONDON               NaN   \n",
       "2782498        SHERBURN IN ELMET               LEEDS               NaN   \n",
       "\n",
       "        RegAddress.Country RegAddress.PostCode          CompanyCategory  \\\n",
       "4375058     UNITED KINGDOM            SG14 1DJ  Private Limited Company   \n",
       "4270456            ENGLAND             NW6 5PS  Private Limited Company   \n",
       "3858539     UNITED KINGDOM            SA71 4EA  Private Limited Company   \n",
       "2506897     UNITED KINGDOM             W1G 8TB  Private Limited Company   \n",
       "2782498     UNITED KINGDOM            LS25 6BL  Private Limited Company   \n",
       "\n",
       "        CompanyStatus CountryOfOrigin  DissolutionDate IncorporationDate  \\\n",
       "4375058        Active  United Kingdom              NaN        27/07/2018   \n",
       "4270456        Active  United Kingdom              NaN        17/02/2017   \n",
       "3858539        Active  United Kingdom              NaN        10/02/2020   \n",
       "2506897        Active  United Kingdom              NaN        11/05/2018   \n",
       "2782498        Active  United Kingdom              NaN        15/01/2019   \n",
       "\n",
       "         Accounts.AccountRefDay  Accounts.AccountRefMonth  \\\n",
       "4375058                    31.0                       7.0   \n",
       "4270456                    28.0                       2.0   \n",
       "3858539                    29.0                       2.0   \n",
       "2506897                    31.0                       5.0   \n",
       "2782498                    31.0                       1.0   \n",
       "\n",
       "        Accounts.NextDueDate Accounts.LastMadeUpDate Accounts.AccountCategory  \\\n",
       "4375058           30/04/2021              31/07/2019                      NaN   \n",
       "4270456           28/02/2021              28/02/2019                      NaN   \n",
       "3858539           10/11/2021                     NaN        NO ACCOUNTS FILED   \n",
       "2506897           31/05/2021              31/05/2019                  DORMANT   \n",
       "2782498           31/10/2021              31/01/2020                      NaN   \n",
       "\n",
       "        Returns.NextDueDate Returns.LastMadeUpDate  Mortgages.NumMortCharges  \\\n",
       "4375058          24/08/2019                    NaN                         0   \n",
       "4270456          17/03/2018                    NaN                         0   \n",
       "3858539          10/03/2021                    NaN                         0   \n",
       "2506897          08/06/2019                    NaN                         0   \n",
       "2782498          12/02/2020                    NaN                         0   \n",
       "\n",
       "         Mortgages.NumMortOutstanding  Mortgages.NumMortPartSatisfied  \\\n",
       "4375058                             0                               0   \n",
       "4270456                             0                               0   \n",
       "3858539                             0                               0   \n",
       "2506897                             0                               0   \n",
       "2782498                             0                               0   \n",
       "\n",
       "         Mortgages.NumMortSatisfied  \\\n",
       "4375058                           0   \n",
       "4270456                           0   \n",
       "3858539                           0   \n",
       "2506897                           0   \n",
       "2782498                           0   \n",
       "\n",
       "                                         SICCode.SicText_1 SICCode.SicText_2  \\\n",
       "4375058  70229 - Management consultancy activities othe...               NaN   \n",
       "4270456  47110 - Retail sale in non-specialised stores ...               NaN   \n",
       "3858539  82990 - Other business support service activit...               NaN   \n",
       "2506897      68100 - Buying and selling of own real estate               NaN   \n",
       "2782498  46180 - Agents specialized in the sale of othe...               NaN   \n",
       "\n",
       "        SICCode.SicText_3 SICCode.SicText_4  \\\n",
       "4375058               NaN               NaN   \n",
       "4270456               NaN               NaN   \n",
       "3858539               NaN               NaN   \n",
       "2506897               NaN               NaN   \n",
       "2782498               NaN               NaN   \n",
       "\n",
       "         LimitedPartnerships.NumGenPartners  \\\n",
       "4375058                                   0   \n",
       "4270456                                   0   \n",
       "3858539                                   0   \n",
       "2506897                                   0   \n",
       "2782498                                   0   \n",
       "\n",
       "         LimitedPartnerships.NumLimPartners  \\\n",
       "4375058                                   0   \n",
       "4270456                                   0   \n",
       "3858539                                   0   \n",
       "2506897                                   0   \n",
       "2782498                                   0   \n",
       "\n",
       "                                                     URI  \\\n",
       "4375058  http://business.data.gov.uk/id/company/11487238   \n",
       "4270456  http://business.data.gov.uk/id/company/10626054   \n",
       "3858539  http://business.data.gov.uk/id/company/12451432   \n",
       "2506897  http://business.data.gov.uk/id/company/11356508   \n",
       "2782498  http://business.data.gov.uk/id/company/11766787   \n",
       "\n",
       "        PreviousName_1.CONDATE  PreviousName_1.CompanyName  \\\n",
       "4375058                    NaN                         NaN   \n",
       "4270456                    NaN                         NaN   \n",
       "3858539                    NaN                         NaN   \n",
       "2506897                    NaN                         NaN   \n",
       "2782498                    NaN                         NaN   \n",
       "\n",
       "         PreviousName_2.CONDATE  PreviousName_2.CompanyName  \\\n",
       "4375058                     NaN                         NaN   \n",
       "4270456                     NaN                         NaN   \n",
       "3858539                     NaN                         NaN   \n",
       "2506897                     NaN                         NaN   \n",
       "2782498                     NaN                         NaN   \n",
       "\n",
       "        PreviousName_3.CONDATE  PreviousName_3.CompanyName  \\\n",
       "4375058                    NaN                         NaN   \n",
       "4270456                    NaN                         NaN   \n",
       "3858539                    NaN                         NaN   \n",
       "2506897                    NaN                         NaN   \n",
       "2782498                    NaN                         NaN   \n",
       "\n",
       "        PreviousName_4.CONDATE  PreviousName_4.CompanyName  \\\n",
       "4375058                    NaN                         NaN   \n",
       "4270456                    NaN                         NaN   \n",
       "3858539                    NaN                         NaN   \n",
       "2506897                    NaN                         NaN   \n",
       "2782498                    NaN                         NaN   \n",
       "\n",
       "        PreviousName_5.CONDATE  PreviousName_5.CompanyName  \\\n",
       "4375058                    NaN                         NaN   \n",
       "4270456                    NaN                         NaN   \n",
       "3858539                    NaN                         NaN   \n",
       "2506897                    NaN                         NaN   \n",
       "2782498                    NaN                         NaN   \n",
       "\n",
       "        PreviousName_6.CONDATE  PreviousName_6.CompanyName  \\\n",
       "4375058                    NaN                         NaN   \n",
       "4270456                    NaN                         NaN   \n",
       "3858539                    NaN                         NaN   \n",
       "2506897                    NaN                         NaN   \n",
       "2782498                    NaN                         NaN   \n",
       "\n",
       "        PreviousName_7.CONDATE  PreviousName_7.CompanyName  \\\n",
       "4375058                    NaN                         NaN   \n",
       "4270456                    NaN                         NaN   \n",
       "3858539                    NaN                         NaN   \n",
       "2506897                    NaN                         NaN   \n",
       "2782498                    NaN                         NaN   \n",
       "\n",
       "        PreviousName_8.CONDATE  PreviousName_8.CompanyName  \\\n",
       "4375058                    NaN                         NaN   \n",
       "4270456                    NaN                         NaN   \n",
       "3858539                    NaN                         NaN   \n",
       "2506897                    NaN                         NaN   \n",
       "2782498                    NaN                         NaN   \n",
       "\n",
       "        PreviousName_9.CONDATE  PreviousName_9.CompanyName  \\\n",
       "4375058                    NaN                         NaN   \n",
       "4270456                    NaN                         NaN   \n",
       "3858539                    NaN                         NaN   \n",
       "2506897                    NaN                         NaN   \n",
       "2782498                    NaN                         NaN   \n",
       "\n",
       "        PreviousName_10.CONDATE  PreviousName_10.CompanyName  \\\n",
       "4375058                     NaN                          NaN   \n",
       "4270456                     NaN                          NaN   \n",
       "3858539                     NaN                          NaN   \n",
       "2506897                     NaN                          NaN   \n",
       "2782498                     NaN                          NaN   \n",
       "\n",
       "        ConfStmtNextDueDate  ConfStmtLastMadeUpDate  \n",
       "4375058          14/04/2021              31/03/2020  \n",
       "4270456          03/04/2021              20/02/2020  \n",
       "3858539          23/03/2021                     NaN  \n",
       "2506897          20/07/2021              06/07/2020  \n",
       "2782498          25/02/2021              14/01/2020  "
      ]
     },
     "execution_count": 3,
     "metadata": {},
     "output_type": "execute_result"
    }
   ],
   "source": [
    "df.sample(n=5)"
   ]
  },
  {
   "cell_type": "markdown",
   "id": "opened-colon",
   "metadata": {},
   "source": [
    "### Initial data evaluation"
   ]
  },
  {
   "cell_type": "code",
   "execution_count": 4,
   "id": "confused-playlist",
   "metadata": {},
   "outputs": [
    {
     "data": {
      "text/plain": [
       "(4837425, 55)"
      ]
     },
     "execution_count": 4,
     "metadata": {},
     "output_type": "execute_result"
    }
   ],
   "source": [
    "df.shape"
   ]
  },
  {
   "cell_type": "code",
   "execution_count": 5,
   "id": "compressed-wheel",
   "metadata": {},
   "outputs": [
    {
     "data": {
      "text/plain": [
       "Index(['CompanyName', ' CompanyNumber', 'RegAddress.CareOf',\n",
       "       'RegAddress.POBox', 'RegAddress.AddressLine1',\n",
       "       ' RegAddress.AddressLine2', 'RegAddress.PostTown', 'RegAddress.County',\n",
       "       'RegAddress.Country', 'RegAddress.PostCode', 'CompanyCategory',\n",
       "       'CompanyStatus', 'CountryOfOrigin', 'DissolutionDate',\n",
       "       'IncorporationDate', 'Accounts.AccountRefDay',\n",
       "       'Accounts.AccountRefMonth', 'Accounts.NextDueDate',\n",
       "       'Accounts.LastMadeUpDate', 'Accounts.AccountCategory',\n",
       "       'Returns.NextDueDate', 'Returns.LastMadeUpDate',\n",
       "       'Mortgages.NumMortCharges', 'Mortgages.NumMortOutstanding',\n",
       "       'Mortgages.NumMortPartSatisfied', 'Mortgages.NumMortSatisfied',\n",
       "       'SICCode.SicText_1', 'SICCode.SicText_2', 'SICCode.SicText_3',\n",
       "       'SICCode.SicText_4', 'LimitedPartnerships.NumGenPartners',\n",
       "       'LimitedPartnerships.NumLimPartners', 'URI', 'PreviousName_1.CONDATE',\n",
       "       ' PreviousName_1.CompanyName', ' PreviousName_2.CONDATE',\n",
       "       ' PreviousName_2.CompanyName', 'PreviousName_3.CONDATE',\n",
       "       ' PreviousName_3.CompanyName', 'PreviousName_4.CONDATE',\n",
       "       ' PreviousName_4.CompanyName', 'PreviousName_5.CONDATE',\n",
       "       ' PreviousName_5.CompanyName', 'PreviousName_6.CONDATE',\n",
       "       ' PreviousName_6.CompanyName', 'PreviousName_7.CONDATE',\n",
       "       ' PreviousName_7.CompanyName', 'PreviousName_8.CONDATE',\n",
       "       ' PreviousName_8.CompanyName', 'PreviousName_9.CONDATE',\n",
       "       ' PreviousName_9.CompanyName', 'PreviousName_10.CONDATE',\n",
       "       ' PreviousName_10.CompanyName', 'ConfStmtNextDueDate',\n",
       "       ' ConfStmtLastMadeUpDate'],\n",
       "      dtype='object')"
      ]
     },
     "execution_count": 5,
     "metadata": {},
     "output_type": "execute_result"
    }
   ],
   "source": [
    "df.columns"
   ]
  },
  {
   "cell_type": "markdown",
   "id": "satisfactory-banana",
   "metadata": {},
   "source": [
    "<br><br>The data from Companies House comes with a range of features including the address and [Standard Industrial Classification](https://www.gov.uk/government/publications/standard-industrial-classification-of-economic-activities-sic) which could be useful features for deduplication, but first let's just consider the similarity of the company names."
   ]
  },
  {
   "cell_type": "code",
   "execution_count": 6,
   "id": "isolated-station",
   "metadata": {},
   "outputs": [],
   "source": [
    "df = df[['CompanyName', ' CompanyNumber']]"
   ]
  },
  {
   "cell_type": "code",
   "execution_count": 7,
   "id": "treated-acceptance",
   "metadata": {},
   "outputs": [
    {
     "data": {
      "text/plain": [
       "CompanyName       4836627\n",
       " CompanyNumber    4837425\n",
       "dtype: int64"
      ]
     },
     "execution_count": 7,
     "metadata": {},
     "output_type": "execute_result"
    }
   ],
   "source": [
    "df[['CompanyName', ' CompanyNumber']].nunique()"
   ]
  },
  {
   "cell_type": "markdown",
   "id": "critical-graduation",
   "metadata": {},
   "source": [
    "Straight away it can be seen that some of the company names in the dataset are direct duplicates of other rows, without even considering any fuzzy matching."
   ]
  },
  {
   "cell_type": "code",
   "execution_count": 8,
   "id": "southwest-thought",
   "metadata": {},
   "outputs": [
    {
     "name": "stdout",
     "output_type": "stream",
     "text": [
      "Top 10 direct duplicates:\n"
     ]
    },
    {
     "data": {
      "text/plain": [
       "DEVON FUEL ASSOCIATES LTD. T/A SERVICETECH SOUTH WEST PARTNERSHIP        10\n",
       "FOXLEY COURT EQUESTRIAN                                                   4\n",
       "COTFIELD FARMERS                                                          3\n",
       "BONSHAW FARMS                                                             3\n",
       "JACK KAY & SONS                                                           3\n",
       "FARRANS (CONSTRUCTION) LIMITED                                            3\n",
       "ROYAL INSURANCE (U.K.) LIMITED                                            3\n",
       "ASSOCIATED SUB-CONTRACTORS IN LIMITED PARTNERSHIP WITH MICHAEL MURPHY     3\n",
       "ASSOCIATED SUB-CONTRACTORS IN LIMITED PARTNERSHIP WITH LEE SMITH          3\n",
       "JAMES MCDOUGALL                                                           3\n",
       "Name: CompanyName, dtype: int64"
      ]
     },
     "execution_count": 8,
     "metadata": {},
     "output_type": "execute_result"
    }
   ],
   "source": [
    "print('Top 10 direct duplicates:')\n",
    "df['CompanyName'].value_counts(ascending=False)[:10]"
   ]
  },
  {
   "cell_type": "markdown",
   "id": "configured-israeli",
   "metadata": {},
   "source": [
    "**For the sake of runtime, the following examples will use a subset of the overall data**"
   ]
  },
  {
   "cell_type": "code",
   "execution_count": 9,
   "id": "general-genius",
   "metadata": {},
   "outputs": [],
   "source": [
    "df = df.sample(n=50000)"
   ]
  },
  {
   "cell_type": "markdown",
   "id": "directed-gilbert",
   "metadata": {},
   "source": [
    "### Fuzzywuzzy "
   ]
  },
  {
   "cell_type": "markdown",
   "id": "olive-wisconsin",
   "metadata": {},
   "source": [
    "As mentioned, one of the simplest ways to get the similarity between the company names would be to use the fuzzywuzzy python package."
   ]
  },
  {
   "cell_type": "code",
   "execution_count": 10,
   "id": "cosmetic-limitation",
   "metadata": {},
   "outputs": [
    {
     "name": "stdout",
     "output_type": "stream",
     "text": [
      "('ASSOCIATED SUB-CONTRACTORS IN LIMITED PARTNERSHIP WITH DAVID KELLY', 86)\n",
      "2.36 s ± 10.4 ms per loop (mean ± std. dev. of 7 runs, 1 loop each)\n"
     ]
    }
   ],
   "source": [
    "company_list = df['CompanyName'].unique()\n",
    "print(process.extractOne('AVOCHIE HOME FARM PARTNERSHIP', company_list))\n",
    "time_result = %timeit -o process.extractOne('AVOCHIE HOME FARM PARTNERSHIP', company_list)"
   ]
  },
  {
   "cell_type": "code",
   "execution_count": 11,
   "id": "light-marathon",
   "metadata": {},
   "outputs": [
    {
     "name": "stdout",
     "output_type": "stream",
     "text": [
      "Rough time for full dataset: 32 hours\n"
     ]
    }
   ],
   "source": [
    "print('Rough time for full dataset: {} hours'.format(int((time_result.average/3600)*len(company_list))))"
   ]
  },
  {
   "cell_type": "markdown",
   "id": "absolute-football",
   "metadata": {},
   "source": [
    "Nearly 2.4 seconds just to find the closest match of one record! For our relatively small sample of 50,000 companies, we'd have our duplicate matches after *33 hours*.\n",
    "<br><br>\n",
    "The sample dataset used here was about 1/96th of the full dataset. If this method was to be completed using all 4.8 million companies, it would take roughly 96<sup>2</sup> times longer - that's over 300,000 hours, or about **_35 years_**.\n",
    "<br><br>\n",
    "While this could be scaled up or out with greater compute power, matrix multiplication offers another approach.<br><br>"
   ]
  },
  {
   "cell_type": "markdown",
   "id": "innovative-container",
   "metadata": {},
   "source": [
    "### Fuzzy matching with TF-IDF"
   ]
  },
  {
   "cell_type": "markdown",
   "id": "interracial-lighting",
   "metadata": {},
   "source": [
    "[TF-IDF](https://en.wikipedia.org/wiki/Tf%E2%80%93idf) (**Term Frequency-Inverse Document Frequency**) is a statistical measure used in Natural Language Processing to evaluate how important a word is to a document in a collection of documents.\n",
    "<br><br>\n",
    "An example of this would be in collecting a large list of books, and giving a score to each word in every book that describes how useful that word is in identifying the book itself.\n",
    "<br><br>\n",
    "**Term Frequency** is the raw count of how many times term appears within the document, i.e. how many times a word appears in the book.\n",
    "<br><br>\n",
    "**Inverse Document Frequency** is a measure of how valuable that term is overall to the identity of the document, i.e. if the word is one which is very common across all of the books (documents), or if it is rare and so likely to be specific to one book.\n",
    "<br><br>\n",
    "For this example, _\"the\"_ is likely to be a word with high Term Frequency, but in every single book in the collection, so will have an overall low score by the TF-IDF measure. _\"Mockingbird\"_ is less likely to be frequent in many books, so will be more impactful in identifying a specific book, and will therefore have a far greater TF-IDF score.\n"
   ]
  },
  {
   "cell_type": "markdown",
   "id": "right-feedback",
   "metadata": {},
   "source": [
    "<br>**How does this help with fuzzy matching or deduplication?**\n",
    "<br><br>[scikit-learn](https://scikit-learn.org/stable/) has a module to carry out the TF-IDF transformation. Normally, the \"terms\" of TF-IDF would be whole words within a document, but for the case of the company names within this dataset the terms can be a collection of n-grams that compose the name instead."
   ]
  },
  {
   "cell_type": "markdown",
   "id": "aerial-status",
   "metadata": {},
   "source": [
    "Using the following function **ngram**, a company name can be broken up into every consecutive 3 character combination.\n",
    "<br><br>Some cleaning using regular expressions is completed first to clean the company name, such as removing any irrelevant characters, and padding the string with spaces so to add an extra n-gram for the start and end of the name."
   ]
  },
  {
   "cell_type": "code",
   "execution_count": 12,
   "id": "unsigned-drain",
   "metadata": {},
   "outputs": [
    {
     "name": "stdout",
     "output_type": "stream",
     "text": [
      "[' Av', 'Avo', 'voc', 'och', 'chi', 'hie', 'ie ', 'e H', ' Ho', 'Hom', 'ome', 'me ', 'e F', ' Fa', 'Far', 'arm', 'rm ', 'm P', ' Pa', 'Par', 'art', 'rtn', 'tne', 'ner', 'ers', 'rsh', 'shi', 'hip', 'ip ']\n"
     ]
    }
   ],
   "source": [
    "def ngram(s):\n",
    "    n=3\n",
    "    s = re.sub(r'[^a-zA-Z0-9\\-\\,&\\s!]','',s)\n",
    "    s = re.sub(r'[\\-\\,]',' ', s)\n",
    "    s = re.sub(r'\\s+',' ', s)\n",
    "    s = s.replace('&','and')\n",
    "    s = s.title()\n",
    "    s = s.strip()\n",
    "    s = ' '+s+' '\n",
    "    ngrams = zip(*[s[i:] for i in range(n)])\n",
    "    ngrams = [''.join(ngram) for ngram in ngrams]\n",
    "    return ngrams\n",
    "\n",
    "print(ngram('AVOCHIE HOME FARM PARTNERSHIP'))"
   ]
  },
  {
   "cell_type": "markdown",
   "id": "vital-globe",
   "metadata": {},
   "source": [
    "With the [TfidfVectorizer](https://scikit-learn.org/stable/modules/generated/sklearn.feature_extraction.text.TfidfVectorizer.html) module of scikit-learn, this ngram function can be used in place of the usual functionality of looking for whole words by using the *analyzer* parameter of the module.\n",
    "<br><br>\n",
    "In order to demonstrate this, a TF-IDF matrix is created for a list of 4 example company names below."
   ]
  },
  {
   "cell_type": "code",
   "execution_count": 13,
   "id": "outer-genetics",
   "metadata": {},
   "outputs": [
    {
     "data": {
      "text/html": [
       "<div>\n",
       "<style scoped>\n",
       "    .dataframe tbody tr th:only-of-type {\n",
       "        vertical-align: middle;\n",
       "    }\n",
       "\n",
       "    .dataframe tbody tr th {\n",
       "        vertical-align: top;\n",
       "    }\n",
       "\n",
       "    .dataframe thead th {\n",
       "        text-align: right;\n",
       "    }\n",
       "</style>\n",
       "<table border=\"1\" class=\"dataframe\">\n",
       "  <thead>\n",
       "    <tr style=\"text-align: right;\">\n",
       "      <th></th>\n",
       "      <th>Ba</th>\n",
       "      <th>Cl</th>\n",
       "      <th>Ro</th>\n",
       "      <th>Th</th>\n",
       "      <th>Ban</th>\n",
       "      <th>Cly</th>\n",
       "      <th>Roy</th>\n",
       "      <th>The</th>\n",
       "      <th>al</th>\n",
       "      <th>ale</th>\n",
       "      <th>ank</th>\n",
       "      <th>dal</th>\n",
       "      <th>des</th>\n",
       "      <th>e B</th>\n",
       "      <th>e R</th>\n",
       "      <th>esd</th>\n",
       "      <th>he</th>\n",
       "      <th>ing</th>\n",
       "      <th>kin</th>\n",
       "      <th>l B</th>\n",
       "      <th>le</th>\n",
       "      <th>lyd</th>\n",
       "      <th>ng</th>\n",
       "      <th>nk</th>\n",
       "      <th>nki</th>\n",
       "      <th>oya</th>\n",
       "      <th>sda</th>\n",
       "      <th>yal</th>\n",
       "      <th>yde</th>\n",
       "    </tr>\n",
       "  </thead>\n",
       "  <tbody>\n",
       "    <tr>\n",
       "      <th>Royal Bank</th>\n",
       "      <td>0.234</td>\n",
       "      <td>0.000</td>\n",
       "      <td>0.354</td>\n",
       "      <td>0.000</td>\n",
       "      <td>0.234</td>\n",
       "      <td>0.000</td>\n",
       "      <td>0.354</td>\n",
       "      <td>0.000</td>\n",
       "      <td>0.354</td>\n",
       "      <td>0.000</td>\n",
       "      <td>0.234</td>\n",
       "      <td>0.000</td>\n",
       "      <td>0.000</td>\n",
       "      <td>0.000</td>\n",
       "      <td>0.000</td>\n",
       "      <td>0.000</td>\n",
       "      <td>0.000</td>\n",
       "      <td>0.000</td>\n",
       "      <td>0.000</td>\n",
       "      <td>0.354</td>\n",
       "      <td>0.000</td>\n",
       "      <td>0.000</td>\n",
       "      <td>0.000</td>\n",
       "      <td>0.287</td>\n",
       "      <td>0.000</td>\n",
       "      <td>0.354</td>\n",
       "      <td>0.000</td>\n",
       "      <td>0.354</td>\n",
       "      <td>0.000</td>\n",
       "    </tr>\n",
       "    <tr>\n",
       "      <th>The Royal Bank</th>\n",
       "      <td>0.174</td>\n",
       "      <td>0.000</td>\n",
       "      <td>0.263</td>\n",
       "      <td>0.334</td>\n",
       "      <td>0.174</td>\n",
       "      <td>0.000</td>\n",
       "      <td>0.263</td>\n",
       "      <td>0.334</td>\n",
       "      <td>0.263</td>\n",
       "      <td>0.000</td>\n",
       "      <td>0.174</td>\n",
       "      <td>0.000</td>\n",
       "      <td>0.000</td>\n",
       "      <td>0.000</td>\n",
       "      <td>0.334</td>\n",
       "      <td>0.000</td>\n",
       "      <td>0.334</td>\n",
       "      <td>0.000</td>\n",
       "      <td>0.000</td>\n",
       "      <td>0.263</td>\n",
       "      <td>0.000</td>\n",
       "      <td>0.000</td>\n",
       "      <td>0.000</td>\n",
       "      <td>0.213</td>\n",
       "      <td>0.000</td>\n",
       "      <td>0.263</td>\n",
       "      <td>0.000</td>\n",
       "      <td>0.263</td>\n",
       "      <td>0.000</td>\n",
       "    </tr>\n",
       "    <tr>\n",
       "      <th>Clydesdale Bank</th>\n",
       "      <td>0.184</td>\n",
       "      <td>0.278</td>\n",
       "      <td>0.000</td>\n",
       "      <td>0.000</td>\n",
       "      <td>0.184</td>\n",
       "      <td>0.278</td>\n",
       "      <td>0.000</td>\n",
       "      <td>0.000</td>\n",
       "      <td>0.000</td>\n",
       "      <td>0.278</td>\n",
       "      <td>0.184</td>\n",
       "      <td>0.278</td>\n",
       "      <td>0.278</td>\n",
       "      <td>0.278</td>\n",
       "      <td>0.000</td>\n",
       "      <td>0.278</td>\n",
       "      <td>0.000</td>\n",
       "      <td>0.000</td>\n",
       "      <td>0.000</td>\n",
       "      <td>0.000</td>\n",
       "      <td>0.278</td>\n",
       "      <td>0.278</td>\n",
       "      <td>0.000</td>\n",
       "      <td>0.225</td>\n",
       "      <td>0.000</td>\n",
       "      <td>0.000</td>\n",
       "      <td>0.278</td>\n",
       "      <td>0.000</td>\n",
       "      <td>0.278</td>\n",
       "    </tr>\n",
       "    <tr>\n",
       "      <th>Clydesdale Banking</th>\n",
       "      <td>0.153</td>\n",
       "      <td>0.231</td>\n",
       "      <td>0.000</td>\n",
       "      <td>0.000</td>\n",
       "      <td>0.153</td>\n",
       "      <td>0.231</td>\n",
       "      <td>0.000</td>\n",
       "      <td>0.000</td>\n",
       "      <td>0.000</td>\n",
       "      <td>0.231</td>\n",
       "      <td>0.153</td>\n",
       "      <td>0.231</td>\n",
       "      <td>0.231</td>\n",
       "      <td>0.231</td>\n",
       "      <td>0.000</td>\n",
       "      <td>0.231</td>\n",
       "      <td>0.000</td>\n",
       "      <td>0.293</td>\n",
       "      <td>0.293</td>\n",
       "      <td>0.000</td>\n",
       "      <td>0.231</td>\n",
       "      <td>0.231</td>\n",
       "      <td>0.293</td>\n",
       "      <td>0.000</td>\n",
       "      <td>0.293</td>\n",
       "      <td>0.000</td>\n",
       "      <td>0.231</td>\n",
       "      <td>0.000</td>\n",
       "      <td>0.231</td>\n",
       "    </tr>\n",
       "  </tbody>\n",
       "</table>\n",
       "</div>"
      ],
      "text/plain": [
       "                       Ba     Cl     Ro     Th    Ban    Cly    Roy    The  \\\n",
       "Royal Bank          0.234  0.000  0.354  0.000  0.234  0.000  0.354  0.000   \n",
       "The Royal Bank      0.174  0.000  0.263  0.334  0.174  0.000  0.263  0.334   \n",
       "Clydesdale Bank     0.184  0.278  0.000  0.000  0.184  0.278  0.000  0.000   \n",
       "Clydesdale Banking  0.153  0.231  0.000  0.000  0.153  0.231  0.000  0.000   \n",
       "\n",
       "                      al     ale    ank    dal    des    e B    e R    esd  \\\n",
       "Royal Bank          0.354  0.000  0.234  0.000  0.000  0.000  0.000  0.000   \n",
       "The Royal Bank      0.263  0.000  0.174  0.000  0.000  0.000  0.334  0.000   \n",
       "Clydesdale Bank     0.000  0.278  0.184  0.278  0.278  0.278  0.000  0.278   \n",
       "Clydesdale Banking  0.000  0.231  0.153  0.231  0.231  0.231  0.000  0.231   \n",
       "\n",
       "                      he     ing    kin    l B    le     lyd    ng     nk   \\\n",
       "Royal Bank          0.000  0.000  0.000  0.354  0.000  0.000  0.000  0.287   \n",
       "The Royal Bank      0.334  0.000  0.000  0.263  0.000  0.000  0.000  0.213   \n",
       "Clydesdale Bank     0.000  0.000  0.000  0.000  0.278  0.278  0.000  0.225   \n",
       "Clydesdale Banking  0.000  0.293  0.293  0.000  0.231  0.231  0.293  0.000   \n",
       "\n",
       "                      nki    oya    sda    yal    yde  \n",
       "Royal Bank          0.000  0.354  0.000  0.354  0.000  \n",
       "The Royal Bank      0.000  0.263  0.000  0.263  0.000  \n",
       "Clydesdale Bank     0.000  0.000  0.278  0.000  0.278  \n",
       "Clydesdale Banking  0.293  0.000  0.231  0.000  0.231  "
      ]
     },
     "execution_count": 13,
     "metadata": {},
     "output_type": "execute_result"
    }
   ],
   "source": [
    "from sklearn.feature_extraction.text import TfidfVectorizer\n",
    "\n",
    "example = ['Royal Bank', 'The Royal Bank','Clydesdale Bank','Clydesdale Banking']\n",
    "\n",
    "vectorizer_ex = TfidfVectorizer(min_df=1, analyzer=ngram)\n",
    "tfidf_matrix_ex = vectorizer_ex.fit_transform(example)\n",
    "pd.DataFrame(tfidf_matrix_ex.toarray(), index=example, columns=vectorizer_ex.get_feature_names()).round(decimals=3)"
   ]
  },
  {
   "cell_type": "markdown",
   "id": "nervous-regulation",
   "metadata": {},
   "source": [
    "It can be seen that the vectorizer has split all 4 company names into a unique list of n-grams, and given a TF-IDF score to each one for each of the 4 companies.\n",
    "<br><br>\n",
    "The score measures how important each n-gram is to identifying that specific company name.<br><br>**\"Ban\"** is present in all 4 of the companies in this example, so has a unanimously low score across the board.<br><br>On the other hand, **\"Roy\"** only appears within the two Royal Bank examples, and therefore has a higher score for these two entries and a score of 0 for the two Clydesdale examples."
   ]
  },
  {
   "cell_type": "markdown",
   "id": "limited-termination",
   "metadata": {},
   "source": [
    "<br>**Finding close matches**\n",
    "<br><br>\n",
    "Once this TF-IDF matrix is prepared, the cosine similarity metric can be used to compare the matrix against itself and highlight company names that have a strong similarity to others within the dataset."
   ]
  },
  {
   "cell_type": "code",
   "execution_count": 14,
   "id": "painted-immune",
   "metadata": {},
   "outputs": [],
   "source": [
    "from sklearn.metrics.pairwise import cosine_similarity"
   ]
  },
  {
   "cell_type": "code",
   "execution_count": 15,
   "id": "missing-security",
   "metadata": {},
   "outputs": [
    {
     "data": {
      "text/plain": [
       "array([[1.        , 0.74382013, 0.19373958, 0.10751709],\n",
       "       [0.74382013, 1.        , 0.1441074 , 0.07997338],\n",
       "       [0.19373958, 0.1441074 , 1.        , 0.78967928],\n",
       "       [0.10751709, 0.07997338, 0.78967928, 1.        ]])"
      ]
     },
     "execution_count": 15,
     "metadata": {},
     "output_type": "execute_result"
    }
   ],
   "source": [
    "cosine_similarity(tfidf_matrix_ex, tfidf_matrix_ex)"
   ]
  },
  {
   "cell_type": "code",
   "execution_count": 16,
   "id": "typical-poverty",
   "metadata": {},
   "outputs": [
    {
     "data": {
      "text/html": [
       "<div>\n",
       "<style scoped>\n",
       "    .dataframe tbody tr th:only-of-type {\n",
       "        vertical-align: middle;\n",
       "    }\n",
       "\n",
       "    .dataframe tbody tr th {\n",
       "        vertical-align: top;\n",
       "    }\n",
       "\n",
       "    .dataframe thead th {\n",
       "        text-align: right;\n",
       "    }\n",
       "</style>\n",
       "<table border=\"1\" class=\"dataframe\">\n",
       "  <thead>\n",
       "    <tr style=\"text-align: right;\">\n",
       "      <th></th>\n",
       "      <th>Royal Bank</th>\n",
       "      <th>The Royal Bank</th>\n",
       "      <th>Clydesdale Bank</th>\n",
       "      <th>Clydesdale Banking</th>\n",
       "    </tr>\n",
       "  </thead>\n",
       "  <tbody>\n",
       "    <tr>\n",
       "      <th>Royal Bank</th>\n",
       "      <td>1.000</td>\n",
       "      <td>0.744</td>\n",
       "      <td>0.194</td>\n",
       "      <td>0.108</td>\n",
       "    </tr>\n",
       "    <tr>\n",
       "      <th>The Royal Bank</th>\n",
       "      <td>0.744</td>\n",
       "      <td>1.000</td>\n",
       "      <td>0.144</td>\n",
       "      <td>0.080</td>\n",
       "    </tr>\n",
       "    <tr>\n",
       "      <th>Clydesdale Bank</th>\n",
       "      <td>0.194</td>\n",
       "      <td>0.144</td>\n",
       "      <td>1.000</td>\n",
       "      <td>0.790</td>\n",
       "    </tr>\n",
       "    <tr>\n",
       "      <th>Clydesdale Banking</th>\n",
       "      <td>0.108</td>\n",
       "      <td>0.080</td>\n",
       "      <td>0.790</td>\n",
       "      <td>1.000</td>\n",
       "    </tr>\n",
       "  </tbody>\n",
       "</table>\n",
       "</div>"
      ],
      "text/plain": [
       "                    Royal Bank  The Royal Bank  Clydesdale Bank  \\\n",
       "Royal Bank               1.000           0.744            0.194   \n",
       "The Royal Bank           0.744           1.000            0.144   \n",
       "Clydesdale Bank          0.194           0.144            1.000   \n",
       "Clydesdale Banking       0.108           0.080            0.790   \n",
       "\n",
       "                    Clydesdale Banking  \n",
       "Royal Bank                       0.108  \n",
       "The Royal Bank                   0.080  \n",
       "Clydesdale Bank                  0.790  \n",
       "Clydesdale Banking               1.000  "
      ]
     },
     "execution_count": 16,
     "metadata": {},
     "output_type": "execute_result"
    }
   ],
   "source": [
    "pd.DataFrame(cosine_similarity(tfidf_matrix_ex, tfidf_matrix_ex), index=example, columns=example).round(decimals=3)"
   ]
  },
  {
   "cell_type": "markdown",
   "id": "correct-stage",
   "metadata": {},
   "source": [
    "As seen above, the metric has done a great job at identifying similar company names.\n",
    "<br><br>**\"Royal Bank\"** and **\"The Royal Bank\"** have been given a similarity score of 0.744. Likewise, **\"Clydesdale Bank\"** and **\"Clydesdale Banking\"** have a score of 0.79.\n",
    "<br><br>Conversely, the score between the Royal Bank and Clydesdale entries all sit below 0.2, correctly identifying these as different.\n",
    "<br><br>The scores produced by the cosine similarity can then be filtered as needed to suit the level of precision or recall for the task at hand.\n",
    "<br><br>*Note: As the TF-IDF matrix is compared against itself, every row will have at least 1 perfect match with itself. These can be filtered out by only considering scores < 1.*"
   ]
  },
  {
   "cell_type": "markdown",
   "id": "surprised-marine",
   "metadata": {},
   "source": [
    "### How much faster is the TF-IDF method than fuzzywuzzy?"
   ]
  },
  {
   "cell_type": "markdown",
   "id": "southeast-appearance",
   "metadata": {},
   "source": [
    "Creating a TF-IDF matrix for our sample dataset of 50,000 companies:"
   ]
  },
  {
   "cell_type": "code",
   "execution_count": 17,
   "id": "detailed-clarity",
   "metadata": {},
   "outputs": [],
   "source": [
    "vectorizer = TfidfVectorizer(min_df=1, analyzer=ngram)\n",
    "tfidf_matrix = vectorizer.fit_transform(company_list)"
   ]
  },
  {
   "cell_type": "code",
   "execution_count": 18,
   "id": "married-chancellor",
   "metadata": {},
   "outputs": [
    {
     "data": {
      "text/plain": [
       "(50000, 19525)"
      ]
     },
     "execution_count": 18,
     "metadata": {},
     "output_type": "execute_result"
    }
   ],
   "source": [
    "tfidf_matrix.shape"
   ]
  },
  {
   "cell_type": "markdown",
   "id": "initial-athletics",
   "metadata": {},
   "source": [
    "Something to note is that the TF-IDF matrix will be very sparse, as each row will likely only have a value above 0 for a small set of the n-grams that make up the thousands of columns of the overall matrix."
   ]
  },
  {
   "cell_type": "code",
   "execution_count": 19,
   "id": "parental-silly",
   "metadata": {},
   "outputs": [
    {
     "name": "stdout",
     "output_type": "stream",
     "text": [
      "Percentage of matrix that is non-zero: 0.12%\n"
     ]
    }
   ],
   "source": [
    "from numpy import count_nonzero\n",
    "print('Percentage of matrix that is non-zero: {:.2f}%'.format((tfidf_matrix.count_nonzero() / float(tfidf_matrix.toarray().size))*100))"
   ]
  },
  {
   "cell_type": "markdown",
   "id": "selected-geology",
   "metadata": {},
   "source": [
    "Rather than use the cosine similarity module from scikit-learn, Data Scientists at ING developed a more efficient method to perform the matrix multiplication for such a sparse matrix (described [here](https://medium.com/wbaa/https-medium-com-ingwbaa-boosting-selection-of-the-most-similar-entities-in-large-scale-datasets-450b3242e618), using this [package](https://github.com/ing-bank/sparse_dot_topn) that was published to implement the method).\n",
    "<br><br>Included in the package is the function *awesome_cossim_topn*, which performs ING's implementation of cosine similiary. There are two extra parameters in this function to restrict the results to the top N matches for each row, and set a lower bound  for the score. "
   ]
  },
  {
   "cell_type": "code",
   "execution_count": 20,
   "id": "amber-clearance",
   "metadata": {},
   "outputs": [
    {
     "name": "stdout",
     "output_type": "stream",
     "text": [
      "Time taken to create the TF-IDF matrix:\n",
      "1.15 s ± 0 ns per loop (mean ± std. dev. of 1 run, 1 loop each)\n",
      "\n",
      "Time taken to calculate the similary matrix:\n",
      "17.8 s ± 0 ns per loop (mean ± std. dev. of 1 run, 1 loop each)\n"
     ]
    }
   ],
   "source": [
    "from scipy.sparse import csr_matrix\n",
    "from sparse_dot_topn import awesome_cossim_topn\n",
    "\n",
    "print('Time taken to create the TF-IDF matrix:')\n",
    "%timeit -r 1 -n 1 tfidf_matrix = vectorizer.fit_transform(company_list)\n",
    "\n",
    "print('\\nTime taken to calculate the similary matrix:')\n",
    "%timeit -r 1 -n 1 matches = awesome_cossim_topn(tfidf_matrix, tfidf_matrix.transpose(), 10, 0.6)"
   ]
  },
  {
   "cell_type": "markdown",
   "id": "realistic-triangle",
   "metadata": {},
   "source": [
    "**Less than 20 seconds** for the whole sample dataset of 50,000 rows! Compared to the fuzzywuzzy method from earlier that was going to take an estimated 33 hours, that's a speed-up of over _**6000x**_."
   ]
  },
  {
   "cell_type": "markdown",
   "id": "removed-football",
   "metadata": {},
   "source": [
    "### Using the TF-IDF results"
   ]
  },
  {
   "cell_type": "markdown",
   "id": "nuclear-control",
   "metadata": {},
   "source": [
    "The final step is to convert the matrix result into tabular form to match the result format of fuzzywuzzy, so that records can be linked as needed."
   ]
  },
  {
   "cell_type": "code",
   "execution_count": 21,
   "id": "suspected-judgment",
   "metadata": {},
   "outputs": [
    {
     "data": {
      "text/plain": [
       "<50000x50000 sparse matrix of type '<class 'numpy.float64'>'\n",
       "\twith 79046 stored elements in Compressed Sparse Row format>"
      ]
     },
     "execution_count": 21,
     "metadata": {},
     "output_type": "execute_result"
    }
   ],
   "source": [
    "matches = awesome_cossim_topn(tfidf_matrix, tfidf_matrix.transpose(), 10, 0.6)\n",
    "matches"
   ]
  },
  {
   "cell_type": "markdown",
   "id": "pretty-rover",
   "metadata": {},
   "source": [
    "Using the *get_matches_df* function described in [this post](https://bergvca.github.io/2017/10/14/super-fast-string-matching.html), the matrix results can be unpacked into a DataFrame."
   ]
  },
  {
   "cell_type": "code",
   "execution_count": 22,
   "id": "reasonable-cassette",
   "metadata": {},
   "outputs": [],
   "source": [
    "def get_matches_df(sparse_matrix, name_vector, top=100):\n",
    "    non_zeros = sparse_matrix.nonzero()\n",
    "    \n",
    "    sparserows = non_zeros[0]\n",
    "    sparsecols = non_zeros[1]\n",
    "    \n",
    "    if top:\n",
    "        nr_matches = top\n",
    "    else:\n",
    "        nr_matches = sparsecols.size\n",
    "    \n",
    "    left_side = np.empty([nr_matches], dtype=object)\n",
    "    right_side = np.empty([nr_matches], dtype=object)\n",
    "    similarity = np.zeros(nr_matches)\n",
    "    \n",
    "    for index in range(0, nr_matches):\n",
    "        left_side[index] = name_vector[sparserows[index]]\n",
    "        right_side[index] = name_vector[sparsecols[index]]\n",
    "        similarity[index] = sparse_matrix.data[index]\n",
    "    \n",
    "    return pd.DataFrame({'left_side': left_side,\n",
    "                          'right_side': right_side,\n",
    "                           'similarity': similarity})"
   ]
  },
  {
   "cell_type": "code",
   "execution_count": 23,
   "id": "average-acrobat",
   "metadata": {},
   "outputs": [],
   "source": [
    "matches_df = get_matches_df(matches, company_list, top=100)"
   ]
  },
  {
   "cell_type": "markdown",
   "id": "heated-table",
   "metadata": {},
   "source": [
    "The resulting DataFrame is filtered for where the score is below 1 to remove the exact matches arising from comparing the TF-IDF matrix against itself."
   ]
  },
  {
   "cell_type": "code",
   "execution_count": 24,
   "id": "favorite-fighter",
   "metadata": {},
   "outputs": [],
   "source": [
    "matches_df = matches_df[matches_df['similarity'] < 0.99999]"
   ]
  },
  {
   "cell_type": "markdown",
   "id": "federal-dakota",
   "metadata": {},
   "source": [
    "Looking at the top scoring matches, the results are now in the format that would be expected after using the fuzzywuzzy package."
   ]
  },
  {
   "cell_type": "code",
   "execution_count": 25,
   "id": "victorian-participation",
   "metadata": {},
   "outputs": [
    {
     "data": {
      "text/html": [
       "<div>\n",
       "<style scoped>\n",
       "    .dataframe tbody tr th:only-of-type {\n",
       "        vertical-align: middle;\n",
       "    }\n",
       "\n",
       "    .dataframe tbody tr th {\n",
       "        vertical-align: top;\n",
       "    }\n",
       "\n",
       "    .dataframe thead th {\n",
       "        text-align: right;\n",
       "    }\n",
       "</style>\n",
       "<table border=\"1\" class=\"dataframe\">\n",
       "  <thead>\n",
       "    <tr style=\"text-align: right;\">\n",
       "      <th></th>\n",
       "      <th>left_side</th>\n",
       "      <th>right_side</th>\n",
       "      <th>similarity</th>\n",
       "    </tr>\n",
       "  </thead>\n",
       "  <tbody>\n",
       "    <tr>\n",
       "      <th>78</th>\n",
       "      <td>KNIGHTSBRIDGE HIGHRISE 1 LIMITED</td>\n",
       "      <td>KNIGHTSBRIDGE HOMES LIMITED</td>\n",
       "      <td>0.709281</td>\n",
       "    </tr>\n",
       "    <tr>\n",
       "      <th>1</th>\n",
       "      <td>BEAUTY CARE SUPPLIES LIMITED</td>\n",
       "      <td>BEAUTY SALON SUPPLIES LTD</td>\n",
       "      <td>0.704602</td>\n",
       "    </tr>\n",
       "    <tr>\n",
       "      <th>19</th>\n",
       "      <td>PRO GLAZE WINDOWS DOORS &amp; CONSERVATORIES LIMITED</td>\n",
       "      <td>CROWN CONSERVATORIES WINDOWS AND DOORS LTD</td>\n",
       "      <td>0.693704</td>\n",
       "    </tr>\n",
       "    <tr>\n",
       "      <th>25</th>\n",
       "      <td>KGF PLUMBING AND HEATING LTD</td>\n",
       "      <td>DSF PLUMBING AND HEATING LTD</td>\n",
       "      <td>0.674433</td>\n",
       "    </tr>\n",
       "    <tr>\n",
       "      <th>72</th>\n",
       "      <td>HEATHWOOD CARPETS AND FLOORING LIMITED</td>\n",
       "      <td>HALLS CARPETS &amp; FLOORING LTD</td>\n",
       "      <td>0.672994</td>\n",
       "    </tr>\n",
       "    <tr>\n",
       "      <th>73</th>\n",
       "      <td>HEATHWOOD CARPETS AND FLOORING LIMITED</td>\n",
       "      <td>GLOBAL CARPETS &amp; FLOORING LTD</td>\n",
       "      <td>0.661707</td>\n",
       "    </tr>\n",
       "    <tr>\n",
       "      <th>26</th>\n",
       "      <td>KGF PLUMBING AND HEATING LTD</td>\n",
       "      <td>S A PLUMBING AND HEATING LTD</td>\n",
       "      <td>0.657188</td>\n",
       "    </tr>\n",
       "    <tr>\n",
       "      <th>27</th>\n",
       "      <td>KGF PLUMBING AND HEATING LTD</td>\n",
       "      <td>IVE PLUMBING &amp; HEATING LTD</td>\n",
       "      <td>0.655919</td>\n",
       "    </tr>\n",
       "    <tr>\n",
       "      <th>28</th>\n",
       "      <td>KGF PLUMBING AND HEATING LTD</td>\n",
       "      <td>HILL PLUMBING &amp; HEATING LIMITED</td>\n",
       "      <td>0.655301</td>\n",
       "    </tr>\n",
       "    <tr>\n",
       "      <th>29</th>\n",
       "      <td>KGF PLUMBING AND HEATING LTD</td>\n",
       "      <td>INVITE PLUMBING AND HEATING LTD</td>\n",
       "      <td>0.654454</td>\n",
       "    </tr>\n",
       "  </tbody>\n",
       "</table>\n",
       "</div>"
      ],
      "text/plain": [
       "                                           left_side  \\\n",
       "78                  KNIGHTSBRIDGE HIGHRISE 1 LIMITED   \n",
       "1                       BEAUTY CARE SUPPLIES LIMITED   \n",
       "19  PRO GLAZE WINDOWS DOORS & CONSERVATORIES LIMITED   \n",
       "25                      KGF PLUMBING AND HEATING LTD   \n",
       "72            HEATHWOOD CARPETS AND FLOORING LIMITED   \n",
       "73            HEATHWOOD CARPETS AND FLOORING LIMITED   \n",
       "26                      KGF PLUMBING AND HEATING LTD   \n",
       "27                      KGF PLUMBING AND HEATING LTD   \n",
       "28                      KGF PLUMBING AND HEATING LTD   \n",
       "29                      KGF PLUMBING AND HEATING LTD   \n",
       "\n",
       "                                    right_side  similarity  \n",
       "78                 KNIGHTSBRIDGE HOMES LIMITED    0.709281  \n",
       "1                    BEAUTY SALON SUPPLIES LTD    0.704602  \n",
       "19  CROWN CONSERVATORIES WINDOWS AND DOORS LTD    0.693704  \n",
       "25                DSF PLUMBING AND HEATING LTD    0.674433  \n",
       "72                HALLS CARPETS & FLOORING LTD    0.672994  \n",
       "73               GLOBAL CARPETS & FLOORING LTD    0.661707  \n",
       "26                S A PLUMBING AND HEATING LTD    0.657188  \n",
       "27                  IVE PLUMBING & HEATING LTD    0.655919  \n",
       "28             HILL PLUMBING & HEATING LIMITED    0.655301  \n",
       "29             INVITE PLUMBING AND HEATING LTD    0.654454  "
      ]
     },
     "execution_count": 25,
     "metadata": {},
     "output_type": "execute_result"
    }
   ],
   "source": [
    "matches_df.sort_values(by='similarity', ascending=False).head(10)"
   ]
  },
  {
   "cell_type": "markdown",
   "id": "weighted-allen",
   "metadata": {},
   "source": [
    "The quality of the results will vary depending on the dataset used. As this was just a small sample of the overall dataset from Companies House  there were few real duplicates."
   ]
  },
  {
   "cell_type": "markdown",
   "id": "outer-mixer",
   "metadata": {},
   "source": [
    "### Possible Next steps"
   ]
  },
  {
   "cell_type": "markdown",
   "id": "better-liver",
   "metadata": {},
   "source": [
    "**Combining other features**\n",
    "<br><br>\n",
    "The original dataset came with a number of other data points, including each company's registered address and SIC description, which could be used in combination with the similarity score found by fuzzy matching. This could allow for finding duplicates below the score threshold that would otherwise be considered the limit for acceptable accuracy.\n",
    "<br><br><br><br>\n",
    "**Removing company extensions**\n",
    "<br><br>\n",
    "Many of the company names in the dataset include extensions not important to identifying the company itself, such as \"Ltd\" or \"Limited\". The TF-IDF metric will already take this into account somewhat, but it may be worth testing whether removing the extensions outright improves the overall quality of the similarity results. (Full list of extensions found [here](https://www.corporateinformation.com/Company-Extensions-Security-Identifiers.aspx).) \n",
    "<br><br><br><br>\n",
    "**Encoding the names to remove mispellings**\n",
    "<br><br>\n",
    "If the dataset is likely to contain a large amount of mispellings (e.g. some CRM data), then splitting the names into n-grams may not be enough to overcome the issue. An example of an encoding method that could assist in this case is [Double Metaphone](https://en.wikipedia.org/wiki/Metaphone#Double_Metaphone), an algorithm that produces an approximate phonetic representation of words."
   ]
  },
  {
   "cell_type": "code",
   "execution_count": 26,
   "id": "transparent-swing",
   "metadata": {},
   "outputs": [
    {
     "name": "stdout",
     "output_type": "stream",
     "text": [
      "('0RLPNK', 'TRLPNK')\n",
      "('0RLPNK', 'TRLPNK')\n"
     ]
    }
   ],
   "source": [
    "from metaphone import doublemetaphone\n",
    "print(doublemetaphone('The Royal Bank'))\n",
    "print(doublemetaphone('The Ryoal Bnk'))"
   ]
  },
  {
   "cell_type": "markdown",
   "id": "surrounded-anthropology",
   "metadata": {},
   "source": [
    "As seen the Double Metaphone algorithm produces the same output for both the correct name and mispelling. There is some risk in similar sounding names being encoded to the same output, so the value of encoding the names in this form depends highly on the dataset in question and if there are any other features that may be used in combination."
   ]
  },
  {
   "cell_type": "markdown",
   "id": "organizational-reality",
   "metadata": {},
   "source": [
    "### Inspirations and further reading:"
   ]
  },
  {
   "cell_type": "markdown",
   "id": "sapphire-quick",
   "metadata": {},
   "source": [
    "[Datacamp - Fuzzy String Matching in Python](https://www.datacamp.com/community/tutorials/fuzzy-string-python)\n",
    "<br><br>\n",
    "[Super Fast String Matching in Python](https://bergvca.github.io/2017/10/14/super-fast-string-matching.html)\n",
    "<br><br>\n",
    "[Boosting the selection of the most similar entities in large scale datasets](https://medium.com/wbaa/https-medium-com-ingwbaa-boosting-selection-of-the-most-similar-entities-in-large-scale-datasets-450b3242e618)\n",
    "<br><br>\n",
    "[Fuzzy search using Double Metaphone](https://blog.cloudant.com/2019/08/08/fuzzy-search-using-the-double-metaphone-algorithm.html)"
   ]
  }
 ],
 "metadata": {
  "kernelspec": {
   "display_name": "Python 3",
   "language": "python",
   "name": "python3"
  },
  "language_info": {
   "codemirror_mode": {
    "name": "ipython",
    "version": 3
   },
   "file_extension": ".py",
   "mimetype": "text/x-python",
   "name": "python",
   "nbconvert_exporter": "python",
   "pygments_lexer": "ipython3",
   "version": "3.7.3"
  }
 },
 "nbformat": 4,
 "nbformat_minor": 5
}
